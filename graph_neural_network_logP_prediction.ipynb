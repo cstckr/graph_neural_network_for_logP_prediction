{
 "cells": [
  {
   "cell_type": "markdown",
   "id": "b89a4ff8",
   "metadata": {},
   "source": [
    "# Predicting logP with graph neural networks using spektral\n",
    "In this notebook, we will build a graph neural network with Spektral (www.graphneural.network/) that predicts the logP value (octanol-water partition coefficient) of molecules. First, we will load the used libraries:"
   ]
  },
  {
   "cell_type": "code",
   "execution_count": 1,
   "id": "c63f46cd",
   "metadata": {},
   "outputs": [
    {
     "name": "stdout",
     "output_type": "stream",
     "text": [
      "Tensorflow version: 2.5.0\n",
      "Numpy version: 1.19.5\n",
      "Spektral version: 1.1.0\n"
     ]
    }
   ],
   "source": [
    "import absl.logging\n",
    "import logging\n",
    "import warnings\n",
    "import random \n",
    "import matplotlib.pyplot as plt\n",
    "import numpy as np\n",
    "import pandas as pd\n",
    "\n",
    "import tensorflow as tf\n",
    "from tensorflow.keras.models import Model\n",
    "from tensorflow.keras import callbacks\n",
    "from tensorflow.keras.layers import Input, Dense, Dropout\n",
    "from tensorflow.keras.losses import MeanSquaredError\n",
    "from tensorflow.keras.optimizers import Adam\n",
    "\n",
    "import spektral as spektral\n",
    "from spektral.data import Graph, Dataset, DisjointLoader\n",
    "from spektral.layers import ECCConv, GlobalAttentionPool\n",
    "\n",
    "from sklearn.model_selection import ShuffleSplit\n",
    "from sklearn.metrics import r2_score, mean_squared_error\n",
    "from sklearn.preprocessing import MinMaxScaler\n",
    "\n",
    "from rdkit import Chem\n",
    "from rdkit.Chem import AllChem\n",
    "from rdkit.Chem import Draw\n",
    "from rdkit.Chem import Descriptors\n",
    "\n",
    "seed = 3\n",
    "tf.random.set_seed(seed)\n",
    "random.seed(seed)\n",
    "np.random.seed(seed)\n",
    "\n",
    "absl.logging.set_verbosity(absl.logging.ERROR)\n",
    "tf.get_logger().setLevel(logging.ERROR)\n",
    "\n",
    "print(f\"Tensorflow version: {tf.__version__}\")\n",
    "print(f\"Numpy version: {np.__version__}\")\n",
    "print(f\"Spektral version: {spektral.__version__}\")"
   ]
  },
  {
   "cell_type": "markdown",
   "id": "074013b8",
   "metadata": {},
   "source": [
    "# Dataset\n",
    "Now we will load the dataset. The dataset originates from following publication:\n",
    "- Ulrich, Goss & Ebert, Exploring the octanol–water partition coefficient dataset using deep learning techniques and data augmentation. *Communications Chemistry* **2021**, *4*, 90. www.doi.org/10.1038/s42004-021-00528-9\n",
    "\n",
    "It can be found via following link: www.github.com/nadinulrich/log_P_prediction/blob/main/Dataset_and_Predictions.xlsx\n",
    "In the reduced version of the file used here, the dataset contains SMILES strings, logP labels and the unique CAS identifiers. In total, there are 12709 entries in this dataset:"
   ]
  },
  {
   "cell_type": "code",
   "execution_count": 2,
   "id": "a8882243",
   "metadata": {},
   "outputs": [
    {
     "data": {
      "text/html": [
       "<div>\n",
       "<style scoped>\n",
       "    .dataframe tbody tr th:only-of-type {\n",
       "        vertical-align: middle;\n",
       "    }\n",
       "\n",
       "    .dataframe tbody tr th {\n",
       "        vertical-align: top;\n",
       "    }\n",
       "\n",
       "    .dataframe thead th {\n",
       "        text-align: right;\n",
       "    }\n",
       "</style>\n",
       "<table border=\"1\" class=\"dataframe\">\n",
       "  <thead>\n",
       "    <tr style=\"text-align: right;\">\n",
       "      <th></th>\n",
       "      <th>SMILES</th>\n",
       "      <th>CAS</th>\n",
       "      <th>logP</th>\n",
       "    </tr>\n",
       "  </thead>\n",
       "  <tbody>\n",
       "    <tr>\n",
       "      <th>1384</th>\n",
       "      <td>CCC=C(N)O</td>\n",
       "      <td>541-35-5</td>\n",
       "      <td>-0.21</td>\n",
       "    </tr>\n",
       "    <tr>\n",
       "      <th>8097</th>\n",
       "      <td>[H]OC(N([H])C([H])(C(=O)N([H])C([H])(C(=O)N([H...</td>\n",
       "      <td>132766-08-6</td>\n",
       "      <td>-1.56</td>\n",
       "    </tr>\n",
       "    <tr>\n",
       "      <th>10067</th>\n",
       "      <td>CCOC1=CC=C(C=C1OCC)N=C(O)OC(C)COC</td>\n",
       "      <td>NOCAS_874743</td>\n",
       "      <td>2.56</td>\n",
       "    </tr>\n",
       "  </tbody>\n",
       "</table>\n",
       "</div>"
      ],
      "text/plain": [
       "                                                  SMILES           CAS  logP\n",
       "1384                                           CCC=C(N)O      541-35-5 -0.21\n",
       "8097   [H]OC(N([H])C([H])(C(=O)N([H])C([H])(C(=O)N([H...   132766-08-6 -1.56\n",
       "10067                  CCOC1=CC=C(C=C1OCC)N=C(O)OC(C)COC  NOCAS_874743  2.56"
      ]
     },
     "execution_count": 2,
     "metadata": {},
     "output_type": "execute_result"
    }
   ],
   "source": [
    "df_dataset = pd.read_csv(\"dataset.csv\")\n",
    "df_dataset.sample(3)"
   ]
  },
  {
   "cell_type": "code",
   "execution_count": 3,
   "id": "527e43f2",
   "metadata": {},
   "outputs": [
    {
     "data": {
      "text/plain": [
       "12709"
      ]
     },
     "execution_count": 3,
     "metadata": {},
     "output_type": "execute_result"
    }
   ],
   "source": [
    "len(df_dataset)"
   ]
  },
  {
   "cell_type": "markdown",
   "id": "73d624ed",
   "metadata": {},
   "source": [
    "However, there are only 1386 unique molecules in the dataset. This is because Kuhn et al. - where applicable - included multiple tautomeric structures (but apparently also enantiomers?) of the same molecule as a form of data augmentation. An example of multiple tautomers/enantiomers can be found below. I have not checked the usefulness of this (but for enantiomers I expect it to be rather detrimental) but in this notebook we do not want to bother with this."
   ]
  },
  {
   "cell_type": "code",
   "execution_count": 4,
   "id": "a6ea71ba",
   "metadata": {},
   "outputs": [
    {
     "data": {
      "text/plain": [
       "1386"
      ]
     },
     "execution_count": 4,
     "metadata": {},
     "output_type": "execute_result"
    }
   ],
   "source": [
    "unique_CAS = df_dataset.CAS.unique()\n",
    "len(unique_CAS)"
   ]
  },
  {
   "cell_type": "code",
   "execution_count": 5,
   "id": "76c63987",
   "metadata": {},
   "outputs": [
    {
     "data": {
      "image/png": "[encoded data removed]",
      "text/plain": [
       "<IPython.core.display.Image object>"
      ]
     },
     "execution_count": 5,
     "metadata": {},
     "output_type": "execute_result"
    }
   ],
   "source": [
    "Draw.MolsToGridImage([Chem.MolFromSmiles(mol) for mol in df_dataset.SMILES[0:5]], molsPerRow=5)"
   ]
  },
  {
   "cell_type": "markdown",
   "id": "ea8b2474",
   "metadata": {},
   "source": [
    "# Creating a Spektral Dataset"
   ]
  },
  {
   "cell_type": "markdown",
   "id": "cf9f4123",
   "metadata": {},
   "source": [
    "The spektral package has its own dataset class to store graphs. We will create these datasets in the following. Each graph can be described by an adjacency matrix, a node (atom) feature matrix, and a edge (bond) feature matrix. For the edge feature matrix, we will include information about the bond type (e.g. single or double bond). For the node feature matrix, we will  include information about the atom type (e.g. carbon or nitrogen). But for this, we first need to know which atom and bond types there are in our dataset. For the bonds, there are following types:"
   ]
  },
  {
   "cell_type": "code",
   "execution_count": 6,
   "id": "b49e3a90",
   "metadata": {},
   "outputs": [
    {
     "data": {
      "text/plain": [
       "['SINGLE', 'DOUBLE', 'AROMATIC', 'TRIPLE']"
      ]
     },
     "execution_count": 6,
     "metadata": {},
     "output_type": "execute_result"
    }
   ],
   "source": [
    "df_dataset_mol = df_dataset.SMILES.apply(Chem.MolFromSmiles)\n",
    "\n",
    "bond_types = []\n",
    "for mol in df_dataset_mol:\n",
    "    bonds = mol.GetBonds()\n",
    "    for bond in bonds:\n",
    "        bond_type = str(bond.GetBondType())\n",
    "        if bond_type not in bond_types:\n",
    "            bond_types.append(bond_type)          \n",
    "bond_types"
   ]
  },
  {
   "cell_type": "markdown",
   "id": "2a6fd086",
   "metadata": {},
   "source": [
    "For the atoms, there are following types:"
   ]
  },
  {
   "cell_type": "code",
   "execution_count": 7,
   "id": "78e270f4",
   "metadata": {},
   "outputs": [
    {
     "data": {
      "text/plain": [
       "['C', 'N', 'O', 'S', 'P', 'Cl', 'F', 'Br', 'I', 'Si']"
      ]
     },
     "execution_count": 7,
     "metadata": {},
     "output_type": "execute_result"
    }
   ],
   "source": [
    "atom_types = []\n",
    "for mol in df_dataset_mol:\n",
    "    atoms = mol.GetAtoms()\n",
    "    for atom in atoms:\n",
    "        atom_type = str(atom.GetSymbol())\n",
    "        if atom_type not in atom_types:\n",
    "            atom_types.append(atom_type)           \n",
    "atom_types"
   ]
  },
  {
   "cell_type": "markdown",
   "id": "eca74029",
   "metadata": {},
   "source": [
    "The class below will create our spektral graph objects:"
   ]
  },
  {
   "cell_type": "code",
   "execution_count": 8,
   "id": "9f9b7d91",
   "metadata": {},
   "outputs": [],
   "source": [
    "class MolecularGraph:\n",
    "    def __init__(self, SMILES, label, bond_types, atom_types):\n",
    "        \"\"\"\n",
    "        Parameters\n",
    "        ----------\n",
    "        SMILES : str\n",
    "        label: float/int/str...\n",
    "        bond_types: list of str\n",
    "        atom_types: list of str\n",
    "        \"\"\"\n",
    "        \n",
    "        self.SMILES = SMILES\n",
    "        self.label = label\n",
    "        self.bond_types = bond_types\n",
    "        self.atom_types = atom_types\n",
    "        \n",
    "        self.mol = Chem.MolFromSmiles(SMILES)\n",
    "        self.adjacency_matrix = Chem.GetAdjacencyMatrix(self.mol)\n",
    "        self.edge_attributes = self.get_edge_attributes()\n",
    "        self.node_attributes = self.get_node_attributes()\n",
    "        \n",
    "    \n",
    "    def get_edge_attributes(self):\n",
    "        n_edges = np.sum(self.adjacency_matrix)\n",
    "        n_edge_features = len(self.bond_types)\n",
    "        edge_attributes = np.zeros(shape=(n_edges, n_edge_features), dtype=int)\n",
    "        \n",
    "        (edge_start_idx, edge_end_idx) = np.where(self.adjacency_matrix==1)\n",
    "        for count, (idx1, idx2) in enumerate(zip(edge_start_idx, edge_end_idx)):\n",
    "            bond_type = str((self.mol).GetBondBetweenAtoms(int(idx1), int(idx2)).GetBondType())\n",
    "            if bond_type in self.bond_types:\n",
    "                idx3 = self.bond_types.index(bond_type)\n",
    "                edge_attributes[count, idx3] = 1\n",
    "        return edge_attributes\n",
    "\n",
    "        \n",
    "    def get_node_attributes(self):\n",
    "        n_nodes = self.adjacency_matrix.shape[0]\n",
    "        n_node_features = len(self.atom_types)  \n",
    "        node_attributes = np.zeros(shape=(n_nodes, n_node_features), dtype=float)\n",
    "        \n",
    "        for count, atom in enumerate(self.mol.GetAtoms()):\n",
    "            atom_type = str(atom.GetSymbol())\n",
    "            if atom_type in self.atom_types:\n",
    "                idx = self.atom_types.index(atom_type)\n",
    "                node_attributes[count, idx] = 1        \n",
    "        return node_attributes\n",
    "                \n",
    "\n",
    "    def get_graph(self):\n",
    "        self.graph = Graph(x=self.node_attributes, a=self.adjacency_matrix, e=self.edge_attributes, y=self.label)\n",
    "        return self.graph"
   ]
  },
  {
   "cell_type": "markdown",
   "id": "3abb2aa1",
   "metadata": {},
   "source": [
    "To give you an idea how adjacency matrix, edge feature matrix, and node feature matrix look like, I will display them for a simple molecule (we will only use atom and bond types that are present in this molecule for edge and node feature matrix for simplicity). This is our example molecule:"
   ]
  },
  {
   "cell_type": "code",
   "execution_count": 9,
   "id": "4984d3c2",
   "metadata": {},
   "outputs": [
    {
     "data": {
      "image/png": "[encoded data removed]",
      "text/plain": [
       "<rdkit.Chem.rdchem.Mol at 0x1436fcd75d0>"
      ]
     },
     "execution_count": 9,
     "metadata": {},
     "output_type": "execute_result"
    }
   ],
   "source": [
    "mol = Chem.MolFromSmiles(\"CC1=CO1\")\n",
    "for idx, atom in enumerate(mol.GetAtoms()):\n",
    "    atom.SetProp(\"atomNote\", str(idx))\n",
    "\n",
    "mol"
   ]
  },
  {
   "cell_type": "markdown",
   "id": "cbbd4874",
   "metadata": {},
   "source": [
    "The adjacency matrix for this for the molecule (rows and columns both represent the atom numbers from 0 to 3 as numbered above) can be found below:"
   ]
  },
  {
   "cell_type": "code",
   "execution_count": 10,
   "id": "c541979c",
   "metadata": {},
   "outputs": [
    {
     "data": {
      "text/plain": [
       "array([[0, 1, 0, 0],\n",
       "       [1, 0, 1, 1],\n",
       "       [0, 1, 0, 1],\n",
       "       [0, 1, 1, 0]], dtype=int32)"
      ]
     },
     "execution_count": 10,
     "metadata": {},
     "output_type": "execute_result"
    }
   ],
   "source": [
    "graph1 = MolecularGraph(\"CC1=CO1\", None, [\"SINGLE\", \"DOUBLE\"], [\"C\", \"O\"]) \n",
    "graph1.adjacency_matrix"
   ]
  },
  {
   "cell_type": "markdown",
   "id": "7699f4dc",
   "metadata": {},
   "source": [
    "The node feature matrix looks like this (columns represent atom types carbon and oxygen, rows represent the atom number from 0 to 3 as numbered above):"
   ]
  },
  {
   "cell_type": "code",
   "execution_count": 11,
   "id": "ece2c9d5",
   "metadata": {},
   "outputs": [
    {
     "data": {
      "text/plain": [
       "array([[1., 0.],\n",
       "       [1., 0.],\n",
       "       [1., 0.],\n",
       "       [0., 1.]])"
      ]
     },
     "execution_count": 11,
     "metadata": {},
     "output_type": "execute_result"
    }
   ],
   "source": [
    "graph1.node_attributes"
   ]
  },
  {
   "cell_type": "markdown",
   "id": "7d59c851",
   "metadata": {},
   "source": [
    "The edge feature matrix looks like this (columns represent bond type single and double, rows represent the bonds in order as they appear in the adjacency matrix (mean the first bond will be the bond between atom 0 and 1, the second bond will be the bond between atom 1 and 0, the third bond will be the bond between atom 1 and 3, and so on)):"
   ]
  },
  {
   "cell_type": "code",
   "execution_count": 12,
   "id": "ab52c720",
   "metadata": {},
   "outputs": [
    {
     "data": {
      "text/plain": [
       "array([[1, 0],\n",
       "       [1, 0],\n",
       "       [0, 1],\n",
       "       [1, 0],\n",
       "       [0, 1],\n",
       "       [1, 0],\n",
       "       [1, 0],\n",
       "       [1, 0]])"
      ]
     },
     "execution_count": 12,
     "metadata": {},
     "output_type": "execute_result"
    }
   ],
   "source": [
    "graph1.edge_attributes"
   ]
  },
  {
   "cell_type": "markdown",
   "id": "9710dc0d",
   "metadata": {},
   "source": [
    "Before we finally create our spektral dataset, we will split the dataset into train, validation, and test set with proportions of approximately 80:20:20. To avoid data leakage, we do this in a way that ensures that different tautomeric structures of the same molecule only appear in one of different portions of the sets:"
   ]
  },
  {
   "cell_type": "code",
   "execution_count": 13,
   "id": "7fda9bdc",
   "metadata": {},
   "outputs": [],
   "source": [
    "rs1 = ShuffleSplit(n_splits=1, test_size=0.2, random_state=seed)\n",
    "for train, test in rs1.split(unique_CAS):\n",
    "    train_validation_CAS = unique_CAS[train]\n",
    "    test_CAS = unique_CAS[test]\n",
    "    \n",
    "rs2 = ShuffleSplit(n_splits=1, test_size=0.25, random_state=seed)\n",
    "for train, validation in rs2.split(train_validation_CAS):\n",
    "    validation_CAS = train_validation_CAS[validation]\n",
    "    train_CAS = train_validation_CAS[train]\n",
    "    \n",
    "df_train = df_dataset[df_dataset.CAS.isin(train_CAS)]\n",
    "df_validation = df_dataset[df_dataset.CAS.isin(validation_CAS)]\n",
    "df_test = df_dataset[df_dataset.CAS.isin(test_CAS)]"
   ]
  },
  {
   "cell_type": "markdown",
   "id": "b3473e74",
   "metadata": {},
   "source": [
    "Furthermore, we perform min-max-scaling of our logP target variable:"
   ]
  },
  {
   "cell_type": "code",
   "execution_count": 14,
   "id": "63ab10f7",
   "metadata": {},
   "outputs": [],
   "source": [
    "df_train_transformed = df_train.copy()\n",
    "df_validation_transformed = df_validation.copy()\n",
    "df_test_transformed = df_test.copy()\n",
    "\n",
    "scaler_logP = MinMaxScaler()\n",
    "scaler_logP.fit(df_train.logP.to_numpy().reshape(-1, 1))\n",
    "\n",
    "df_train_transformed.logP = (scaler_logP.transform(df_train.logP.to_numpy().reshape(-1, 1))).reshape(1, -1)[0]\n",
    "df_validation_transformed.logP = (scaler_logP.transform(df_validation.logP.to_numpy().reshape(-1, 1))).reshape(1, -1)[0]\n",
    "df_test_transformed.logP = (scaler_logP.transform(df_test.logP.to_numpy().reshape(-1, 1))).reshape(1, -1)[0]"
   ]
  },
  {
   "cell_type": "markdown",
   "id": "1de7ca84",
   "metadata": {},
   "source": [
    "Now we implement the CustomDataset class that uses our MolecularGraph class to create our own custom made spektral datasets:"
   ]
  },
  {
   "cell_type": "code",
   "execution_count": 15,
   "id": "8a841ea1",
   "metadata": {},
   "outputs": [],
   "source": [
    "class CustomDataset(Dataset):\n",
    "    def __init__(self, SMILES, labels, bond_types, atom_types):\n",
    "        \"\"\"\n",
    "        Parameters\n",
    "        ----------\n",
    "        SMILES : pd.Series\n",
    "        label: pd.Series\n",
    "        bond_types: list of str\n",
    "        atom_types: list of str\n",
    "        \"\"\"\n",
    "        \n",
    "        self.SMILES = SMILES\n",
    "        self.labels = labels\n",
    "        self.bond_types = bond_types\n",
    "        self.atom_types = atom_types\n",
    "        super().__init__()\n",
    "        \n",
    "    def read(self):\n",
    "        graphs = []\n",
    "        for count, SMILE in self.SMILES.items():   \n",
    "            graph = MolecularGraph(SMILE, self.labels[count], self.bond_types, self.atom_types).get_graph()\n",
    "            graphs.append(graph)\n",
    "        return graphs"
   ]
  },
  {
   "cell_type": "markdown",
   "id": "48e6fd74",
   "metadata": {},
   "source": [
    "And finally let's create the datasets:"
   ]
  },
  {
   "cell_type": "code",
   "execution_count": 16,
   "id": "e34b7037",
   "metadata": {},
   "outputs": [],
   "source": [
    "train_dataset = CustomDataset(df_train_transformed.SMILES, df_train_transformed.logP, bond_types, atom_types)\n",
    "validation_dataset = CustomDataset(df_validation_transformed.SMILES, df_validation_transformed.logP, bond_types, atom_types)\n",
    "test_dataset = CustomDataset(df_test_transformed.SMILES, df_test_transformed.logP, bond_types, atom_types)"
   ]
  },
  {
   "cell_type": "markdown",
   "id": "344f138c",
   "metadata": {},
   "source": [
    "# A baseline model for performance comparison\n",
    "The RDKit offers an out-of-the-box predictor for logP values:"
   ]
  },
  {
   "cell_type": "code",
   "execution_count": 17,
   "id": "709abcff",
   "metadata": {},
   "outputs": [
    {
     "data": {
      "image/png": "[encoded data removed]",
      "text/plain": [
       "<Figure size 432x288 with 1 Axes>"
      ]
     },
     "metadata": {
      "needs_background": "light"
     },
     "output_type": "display_data"
    }
   ],
   "source": [
    "df_test_mol = df_test.SMILES.apply(Chem.MolFromSmiles)\n",
    "y_test_pred = df_test_mol.apply(Descriptors.MolLogP)\n",
    "\n",
    "fig, ax = plt.subplots()\n",
    "ax.scatter(df_test.logP, y_test_pred)\n",
    "m, b = np.polyfit(df_test.logP, y_test_pred, 1)\n",
    "ax.plot(df_test.logP, (m * df_test.logP + b), color=\"red\")\n",
    "ax.set_xlabel(\"Experimental logP\")\n",
    "ax.set_ylabel(\"Predicted logP\")\n",
    "ax.text(0.1, 0.8, f\"\"\"R2: {round(r2_score(df_test.logP, y_test_pred), 2)} \n",
    "MSE: {round(mean_squared_error(df_test.logP, y_test_pred), 2)}\"\"\", transform=ax.transAxes)\n",
    "\n",
    "plt.show()"
   ]
  },
  {
   "cell_type": "markdown",
   "id": "b210ef60",
   "metadata": {},
   "source": [
    "# Training the graph neural network\n",
    "First, we will create our network architecture:"
   ]
  },
  {
   "cell_type": "code",
   "execution_count": 18,
   "id": "a5bfdfd4",
   "metadata": {},
   "outputs": [
    {
     "name": "stdout",
     "output_type": "stream",
     "text": [
      "Model: \"model\"\n",
      "__________________________________________________________________________________________________\n",
      "Layer (type)                    Output Shape         Param #     Connected to                     \n",
      "==================================================================================================\n",
      "input_1 (InputLayer)            [(None, 10)]         0                                            \n",
      "__________________________________________________________________________________________________\n",
      "input_2 (InputLayer)            [(None, None)]       0                                            \n",
      "__________________________________________________________________________________________________\n",
      "input_3 (InputLayer)            [(None, 4)]          0                                            \n",
      "__________________________________________________________________________________________________\n",
      "ecc_conv (ECCConv)              (None, 128)          14576       input_1[0][0]                    \n",
      "                                                                 input_2[0][0]                    \n",
      "                                                                 input_3[0][0]                    \n",
      "__________________________________________________________________________________________________\n",
      "dropout (Dropout)               (None, 128)          0           ecc_conv[0][0]                   \n",
      "__________________________________________________________________________________________________\n",
      "ecc_conv_1 (ECCConv)            (None, 128)          165616      dropout[0][0]                    \n",
      "                                                                 input_2[0][0]                    \n",
      "                                                                 input_3[0][0]                    \n",
      "__________________________________________________________________________________________________\n",
      "dropout_1 (Dropout)             (None, 128)          0           ecc_conv_1[0][0]                 \n",
      "__________________________________________________________________________________________________\n",
      "ecc_conv_2 (ECCConv)            (None, 128)          165616      dropout_1[0][0]                  \n",
      "                                                                 input_2[0][0]                    \n",
      "                                                                 input_3[0][0]                    \n",
      "__________________________________________________________________________________________________\n",
      "input_4 (InputLayer)            [(None,)]            0                                            \n",
      "__________________________________________________________________________________________________\n",
      "global_attention_pool (GlobalAt (None, 256)          66048       ecc_conv_2[0][0]                 \n",
      "                                                                 input_4[0][0]                    \n",
      "__________________________________________________________________________________________________\n",
      "dense (Dense)                   (None, 128)          32896       global_attention_pool[0][0]      \n",
      "__________________________________________________________________________________________________\n",
      "dropout_2 (Dropout)             (None, 128)          0           dense[0][0]                      \n",
      "__________________________________________________________________________________________________\n",
      "dense_1 (Dense)                 (None, 128)          16512       dropout_2[0][0]                  \n",
      "__________________________________________________________________________________________________\n",
      "dense_2 (Dense)                 (None, 1)            129         dense_1[0][0]                    \n",
      "==================================================================================================\n",
      "Total params: 461,393\n",
      "Trainable params: 461,393\n",
      "Non-trainable params: 0\n",
      "__________________________________________________________________________________________________\n"
     ]
    }
   ],
   "source": [
    "def get_model(n_node_features, n_edge_features):\n",
    "    x_in = Input(shape=(n_node_features,))\n",
    "    a_in = Input(shape=(None,), sparse=True)\n",
    "    e_in = Input(shape=(n_edge_features,))\n",
    "    i_in = Input(shape=(), dtype=tf.int32)\n",
    "    \n",
    "    x1 = ECCConv(128, kernel_network=[8, 32, 32, 8], activation=\"relu\")([x_in, a_in, e_in])\n",
    "    x2 = Dropout(0.1)(x1)\n",
    "    x3 = ECCConv(128, kernel_network=[8, 32, 32, 8], activation=\"relu\")([x2, a_in, e_in])\n",
    "    x4 = Dropout(0.1)(x3)\n",
    "    x5 = ECCConv(128, kernel_network=[8, 32, 32, 8], activation=\"relu\")([x4, a_in, e_in])\n",
    "\n",
    "    x6 = GlobalAttentionPool(256)([x5, i_in])\n",
    "\n",
    "    x7 = Dense(128)(x6)\n",
    "    x8 = Dropout(0.4)(x7)\n",
    "    x9 = Dense(128)(x8)\n",
    "    x10 = Dense(1)(x9)\n",
    "\n",
    "    model = Model(inputs=[x_in, a_in, e_in, i_in], outputs=x10)\n",
    "    model.summary()\n",
    "    \n",
    "    return model\n",
    "\n",
    "gnn1 = get_model(len(atom_types), len(bond_types))"
   ]
  },
  {
   "cell_type": "markdown",
   "id": "9b08be21",
   "metadata": {},
   "source": [
    "Then we create some loaders that will feed the batches into our network during training:"
   ]
  },
  {
   "cell_type": "code",
   "execution_count": 19,
   "id": "0ca31a58",
   "metadata": {},
   "outputs": [],
   "source": [
    "batch_size = 64\n",
    "\n",
    "train_dataset_loader = DisjointLoader(train_dataset, batch_size=batch_size)\n",
    "validation_dataset_loader = DisjointLoader(validation_dataset, batch_size=batch_size, shuffle=False)\n",
    "test_dataset_loader = DisjointLoader(test_dataset, batch_size=batch_size, shuffle=False)"
   ]
  },
  {
   "cell_type": "markdown",
   "id": "0e70c4fe",
   "metadata": {},
   "source": [
    "Compiling and training:"
   ]
  },
  {
   "cell_type": "code",
   "execution_count": 20,
   "id": "8b93d9a5",
   "metadata": {},
   "outputs": [
    {
     "name": "stdout",
     "output_type": "stream",
     "text": [
      "Epoch 1/200\n",
      "122/122 [==============================] - 68s 542ms/step - loss: 0.0835 - val_loss: 0.0172\n",
      "Epoch 2/200\n",
      "122/122 [==============================] - 68s 559ms/step - loss: 0.0166 - val_loss: 0.0123\n",
      "Epoch 3/200\n",
      "122/122 [==============================] - 65s 533ms/step - loss: 0.0113 - val_loss: 0.0098\n",
      "Epoch 4/200\n",
      "122/122 [==============================] - 65s 534ms/step - loss: 0.0093 - val_loss: 0.0078\n",
      "Epoch 5/200\n",
      "122/122 [==============================] - 66s 544ms/step - loss: 0.0080 - val_loss: 0.0079\n",
      "Epoch 6/200\n",
      "122/122 [==============================] - 64s 522ms/step - loss: 0.0070 - val_loss: 0.0061\n",
      "Epoch 7/200\n",
      "122/122 [==============================] - 62s 508ms/step - loss: 0.0066 - val_loss: 0.0061\n",
      "Epoch 8/200\n",
      "122/122 [==============================] - 60s 495ms/step - loss: 0.0062 - val_loss: 0.0052\n",
      "Epoch 9/200\n",
      "122/122 [==============================] - 61s 500ms/step - loss: 0.0063 - val_loss: 0.0067\n",
      "Epoch 10/200\n",
      "122/122 [==============================] - 60s 489ms/step - loss: 0.0055 - val_loss: 0.0056\n",
      "Epoch 11/200\n",
      "122/122 [==============================] - 59s 480ms/step - loss: 0.0052 - val_loss: 0.0058\n",
      "Epoch 12/200\n",
      "122/122 [==============================] - 61s 504ms/step - loss: 0.0052 - val_loss: 0.0049\n",
      "Epoch 13/200\n",
      "122/122 [==============================] - 62s 509ms/step - loss: 0.0048 - val_loss: 0.0050\n",
      "Epoch 14/200\n",
      "122/122 [==============================] - 62s 509ms/step - loss: 0.0048 - val_loss: 0.0050\n",
      "Epoch 15/200\n",
      "122/122 [==============================] - 61s 500ms/step - loss: 0.0044 - val_loss: 0.0044\n",
      "Epoch 16/200\n",
      "122/122 [==============================] - 60s 493ms/step - loss: 0.0045 - val_loss: 0.0049\n",
      "Epoch 17/200\n",
      "122/122 [==============================] - 58s 477ms/step - loss: 0.0043 - val_loss: 0.0042\n",
      "Epoch 18/200\n",
      "122/122 [==============================] - 59s 488ms/step - loss: 0.0040 - val_loss: 0.0047\n",
      "Epoch 19/200\n",
      "122/122 [==============================] - 62s 511ms/step - loss: 0.0041 - val_loss: 0.0044\n",
      "Epoch 20/200\n",
      "122/122 [==============================] - 64s 527ms/step - loss: 0.0037 - val_loss: 0.0042\n",
      "Epoch 21/200\n",
      "122/122 [==============================] - 62s 505ms/step - loss: 0.0037 - val_loss: 0.0042\n",
      "Epoch 22/200\n",
      "122/122 [==============================] - 62s 510ms/step - loss: 0.0036 - val_loss: 0.0042\n",
      "Epoch 23/200\n",
      "122/122 [==============================] - 63s 514ms/step - loss: 0.0036 - val_loss: 0.0044\n",
      "Epoch 24/200\n",
      "122/122 [==============================] - 64s 521ms/step - loss: 0.0034 - val_loss: 0.0043\n",
      "Epoch 25/200\n",
      "122/122 [==============================] - 62s 509ms/step - loss: 0.0032 - val_loss: 0.0041\n",
      "Epoch 26/200\n",
      "122/122 [==============================] - 60s 495ms/step - loss: 0.0031 - val_loss: 0.0038\n",
      "Epoch 27/200\n",
      "122/122 [==============================] - 61s 503ms/step - loss: 0.0031 - val_loss: 0.0042\n",
      "Epoch 28/200\n",
      "122/122 [==============================] - 59s 486ms/step - loss: 0.0030 - val_loss: 0.0040\n",
      "Epoch 29/200\n",
      "122/122 [==============================] - 58s 479ms/step - loss: 0.0029 - val_loss: 0.0043\n",
      "Epoch 30/200\n",
      "122/122 [==============================] - 59s 481ms/step - loss: 0.0029 - val_loss: 0.0040\n",
      "Epoch 31/200\n",
      "122/122 [==============================] - 59s 485ms/step - loss: 0.0029 - val_loss: 0.0040\n",
      "Epoch 32/200\n",
      "122/122 [==============================] - 59s 480ms/step - loss: 0.0027 - val_loss: 0.0040\n",
      "Epoch 33/200\n",
      "122/122 [==============================] - 59s 482ms/step - loss: 0.0026 - val_loss: 0.0040\n",
      "Epoch 34/200\n",
      "122/122 [==============================] - 61s 502ms/step - loss: 0.0026 - val_loss: 0.0039\n",
      "Epoch 35/200\n",
      "122/122 [==============================] - 62s 507ms/step - loss: 0.0025 - val_loss: 0.0048\n",
      "Epoch 36/200\n",
      "122/122 [==============================] - 58s 477ms/step - loss: 0.0026 - val_loss: 0.0041\n",
      "Epoch 37/200\n",
      "122/122 [==============================] - 58s 477ms/step - loss: 0.0024 - val_loss: 0.0042\n",
      "Epoch 38/200\n",
      "122/122 [==============================] - 59s 480ms/step - loss: 0.0023 - val_loss: 0.0041\n",
      "Epoch 39/200\n",
      "122/122 [==============================] - 58s 476ms/step - loss: 0.0024 - val_loss: 0.0040\n",
      "Epoch 40/200\n",
      "122/122 [==============================] - 58s 476ms/step - loss: 0.0022 - val_loss: 0.0036\n",
      "Epoch 41/200\n",
      "122/122 [==============================] - 58s 477ms/step - loss: 0.0022 - val_loss: 0.0037\n",
      "Epoch 42/200\n",
      "122/122 [==============================] - 63s 515ms/step - loss: 0.0022 - val_loss: 0.0039\n",
      "Epoch 43/200\n",
      "122/122 [==============================] - 60s 492ms/step - loss: 0.0021 - val_loss: 0.0038\n",
      "Epoch 44/200\n",
      "122/122 [==============================] - 59s 481ms/step - loss: 0.0021 - val_loss: 0.0039\n",
      "Epoch 45/200\n",
      "122/122 [==============================] - 60s 496ms/step - loss: 0.0020 - val_loss: 0.0038\n",
      "Epoch 46/200\n",
      "122/122 [==============================] - 58s 478ms/step - loss: 0.0020 - val_loss: 0.0039\n",
      "Epoch 47/200\n",
      "122/122 [==============================] - 58s 478ms/step - loss: 0.0020 - val_loss: 0.0041\n",
      "Epoch 48/200\n",
      "122/122 [==============================] - 59s 481ms/step - loss: 0.0019 - val_loss: 0.0037\n",
      "Epoch 49/200\n",
      "122/122 [==============================] - 59s 480ms/step - loss: 0.0019 - val_loss: 0.0036\n",
      "Epoch 50/200\n",
      "122/122 [==============================] - 61s 500ms/step - loss: 0.0019 - val_loss: 0.0040\n",
      "Epoch 51/200\n",
      "122/122 [==============================] - 59s 484ms/step - loss: 0.0018 - val_loss: 0.0039\n",
      "Epoch 52/200\n",
      "122/122 [==============================] - 59s 481ms/step - loss: 0.0018 - val_loss: 0.0039\n",
      "Epoch 53/200\n",
      "122/122 [==============================] - 60s 492ms/step - loss: 0.0017 - val_loss: 0.0036\n",
      "Epoch 54/200\n",
      "122/122 [==============================] - 66s 539ms/step - loss: 0.0017 - val_loss: 0.0036\n",
      "Epoch 55/200\n",
      "122/122 [==============================] - 68s 554ms/step - loss: 0.0017 - val_loss: 0.0037\n",
      "Epoch 56/200\n",
      "122/122 [==============================] - 67s 550ms/step - loss: 0.0017 - val_loss: 0.0036\n",
      "Epoch 57/200\n",
      "122/122 [==============================] - 69s 564ms/step - loss: 0.0016 - val_loss: 0.0036\n",
      "Epoch 58/200\n",
      "122/122 [==============================] - 66s 539ms/step - loss: 0.0017 - val_loss: 0.0038\n",
      "Epoch 59/200\n",
      "122/122 [==============================] - 61s 502ms/step - loss: 0.0016 - val_loss: 0.0036\n",
      "Epoch 60/200\n",
      "122/122 [==============================] - 60s 491ms/step - loss: 0.0015 - val_loss: 0.0035\n",
      "Epoch 61/200\n",
      "122/122 [==============================] - 61s 501ms/step - loss: 0.0016 - val_loss: 0.0037\n",
      "Epoch 62/200\n",
      "122/122 [==============================] - 60s 488ms/step - loss: 0.0015 - val_loss: 0.0040\n",
      "Epoch 63/200\n",
      "122/122 [==============================] - 63s 514ms/step - loss: 0.0015 - val_loss: 0.0036\n",
      "Epoch 64/200\n",
      "122/122 [==============================] - 61s 499ms/step - loss: 0.0015 - val_loss: 0.0036\n",
      "Epoch 65/200\n",
      "122/122 [==============================] - 61s 500ms/step - loss: 0.0015 - val_loss: 0.0037\n",
      "Epoch 66/200\n",
      "122/122 [==============================] - 59s 486ms/step - loss: 0.0014 - val_loss: 0.0039\n",
      "Epoch 67/200\n",
      "122/122 [==============================] - 63s 517ms/step - loss: 0.0014 - val_loss: 0.0037\n",
      "Epoch 68/200\n",
      "122/122 [==============================] - 59s 483ms/step - loss: 0.0014 - val_loss: 0.0037\n",
      "Epoch 69/200\n",
      "122/122 [==============================] - 60s 489ms/step - loss: 0.0014 - val_loss: 0.0038\n",
      "Epoch 70/200\n",
      "122/122 [==============================] - 65s 530ms/step - loss: 0.0013 - val_loss: 0.0040\n",
      "Epoch 71/200\n",
      "122/122 [==============================] - 64s 523ms/step - loss: 0.0014 - val_loss: 0.0036\n",
      "Epoch 72/200\n",
      "122/122 [==============================] - 63s 518ms/step - loss: 0.0013 - val_loss: 0.0039\n",
      "Epoch 73/200\n",
      "122/122 [==============================] - 63s 519ms/step - loss: 0.0013 - val_loss: 0.0038\n",
      "Epoch 74/200\n",
      "122/122 [==============================] - 63s 519ms/step - loss: 0.0013 - val_loss: 0.0036\n",
      "Epoch 75/200\n",
      "122/122 [==============================] - 64s 521ms/step - loss: 0.0012 - val_loss: 0.0039\n",
      "Epoch 76/200\n",
      "122/122 [==============================] - 59s 487ms/step - loss: 0.0012 - val_loss: 0.0038\n",
      "Epoch 77/200\n",
      "122/122 [==============================] - 58s 477ms/step - loss: 0.0013 - val_loss: 0.0038\n",
      "Epoch 78/200\n",
      "122/122 [==============================] - 59s 484ms/step - loss: 0.0012 - val_loss: 0.0038\n",
      "Epoch 79/200\n"
     ]
    },
    {
     "name": "stdout",
     "output_type": "stream",
     "text": [
      "122/122 [==============================] - 59s 481ms/step - loss: 0.0012 - val_loss: 0.0037\n",
      "Epoch 80/200\n",
      "122/122 [==============================] - 59s 483ms/step - loss: 0.0012 - val_loss: 0.0039\n",
      "Epoch 81/200\n",
      "122/122 [==============================] - 59s 480ms/step - loss: 0.0012 - val_loss: 0.0037\n",
      "Epoch 82/200\n",
      "122/122 [==============================] - 58s 474ms/step - loss: 0.0012 - val_loss: 0.0035\n",
      "Epoch 83/200\n",
      "122/122 [==============================] - 58s 473ms/step - loss: 0.0012 - val_loss: 0.0037\n",
      "Epoch 84/200\n",
      "122/122 [==============================] - 58s 479ms/step - loss: 0.0012 - val_loss: 0.0037\n",
      "Epoch 85/200\n",
      "122/122 [==============================] - 58s 478ms/step - loss: 0.0011 - val_loss: 0.0036\n",
      "Epoch 00085: early stopping\n"
     ]
    }
   ],
   "source": [
    "gnn1.compile(optimizer=Adam(learning_rate=0.00025), loss=MeanSquaredError()) \n",
    "\n",
    "\n",
    "def scheduler(epoch, lr): \n",
    "    return lr * 0.98\n",
    "\n",
    "\n",
    "cb1 = callbacks.EarlyStopping(monitor=\"val_loss\", mode=\"min\", verbose=1, patience=25)  \n",
    "cb2 = callbacks.LearningRateScheduler(scheduler)\n",
    "cb3 = callbacks.ModelCheckpoint(\".\\\\gnn1\", monitor=\"val_loss\", save_best_only=True)\n",
    "\n",
    "with warnings.catch_warnings():\n",
    "    warnings.simplefilter(\"ignore\")\n",
    "    history = gnn1.fit(train_dataset_loader.load(), \n",
    "                       steps_per_epoch=train_dataset_loader.steps_per_epoch,\n",
    "                       validation_data=validation_dataset_loader.load(),\n",
    "                       validation_steps=validation_dataset_loader.steps_per_epoch,\n",
    "                       epochs=200,\n",
    "                       callbacks=[cb1, cb2, cb3])"
   ]
  },
  {
   "cell_type": "code",
   "execution_count": 21,
   "id": "10dc6f9e",
   "metadata": {},
   "outputs": [
    {
     "data": {
      "image/png": "[encoded data removed]",
      "text/plain": [
       "<Figure size 432x288 with 1 Axes>"
      ]
     },
     "metadata": {
      "needs_background": "light"
     },
     "output_type": "display_data"
    }
   ],
   "source": [
    "fig, ax = plt.subplots()\n",
    "ax.plot(history.history[\"loss\"], label=\"Training\")\n",
    "ax.plot(history.history[\"val_loss\"], label=\"Validation\")\n",
    "ax.set_xlabel(\"Epoch\")\n",
    "ax.set_ylabel(\"Loss\")\n",
    "ax.legend()\n",
    "ax.set_ylim(0, 0.02)\n",
    "plt.show()"
   ]
  },
  {
   "cell_type": "markdown",
   "id": "8c5f6e8c",
   "metadata": {},
   "source": [
    "And finally, let's check the performance of our model:"
   ]
  },
  {
   "cell_type": "code",
   "execution_count": 22,
   "id": "0a53a8ee",
   "metadata": {
    "scrolled": true
   },
   "outputs": [
    {
     "data": {
      "image/png": "[encoded data removed]",
      "text/plain": [
       "<Figure size 432x288 with 1 Axes>"
      ]
     },
     "metadata": {
      "needs_background": "light"
     },
     "output_type": "display_data"
    }
   ],
   "source": [
    "gnn1 = tf.keras.models.load_model(\".\\\\gnn1\", compile=False)\n",
    "y_test_pred = gnn1.predict(test_dataset_loader.load(), steps=test_dataset_loader.steps_per_epoch)\n",
    "y_test_pred_backtransformed = scaler_logP.inverse_transform(y_test_pred).reshape(1, -1)[0]\n",
    "\n",
    "fig, ax = plt.subplots()\n",
    "ax.scatter(df_test.logP, y_test_pred_backtransformed)\n",
    "m, b = np.polyfit(df_test.logP, y_test_pred_backtransformed, 1)\n",
    "ax.plot(df_test.logP, (m * df_test.logP + b), color=\"red\")\n",
    "ax.set_xlabel(\"Experimental logP\")\n",
    "ax.set_ylabel(\"Predicted logP\")\n",
    "ax.text(0.1, 0.8, f\"\"\"R2: {round(r2_score(df_test.logP, y_test_pred_backtransformed), 2)} \n",
    "MSE: {round(mean_squared_error(df_test.logP, y_test_pred_backtransformed), 2)}\"\"\", transform=ax.transAxes)\n",
    "plt.show()"
   ]
  }
 ],
 "metadata": {
  "kernelspec": {
   "display_name": "Python 3 (ipykernel)",
   "language": "python",
   "name": "python3"
  },
  "language_info": {
   "codemirror_mode": {
    "name": "ipython",
    "version": 3
   },
   "file_extension": ".py",
   "mimetype": "text/x-python",
   "name": "python",
   "nbconvert_exporter": "python",
   "pygments_lexer": "ipython3",
   "version": "3.7.13"
  }
 },
 "nbformat": 4,
 "nbformat_minor": 5
}
